{
  "cells": [
    {
      "cell_type": "markdown",
      "metadata": {
        "id": "view-in-github",
        "colab_type": "text"
      },
      "source": [
        "<a href=\"https://colab.research.google.com/github/francinecarvalho1/curso-python/blob/main/C%C3%B3pia_de_caderno_3_condicionais.ipynb\" target=\"_parent\"><img src=\"https://colab.research.google.com/assets/colab-badge.svg\" alt=\"Open In Colab\"/></a>"
      ]
    },
    {
      "cell_type": "markdown",
      "metadata": {
        "id": "PxwEJp06eEiA"
      },
      "source": [
        "<img src=\"https://github.com/francinecarvalho1/curso-python/blob/main/images/condicionais.png?raw=1\">\n",
        "\n",
        "## Condicionais"
      ]
    },
    {
      "cell_type": "code",
      "execution_count": null,
      "metadata": {
        "colab": {
          "base_uri": "https://localhost:8080/"
        },
        "id": "C_XXLOFxeEiI",
        "outputId": "bc49a088-c165-40af-eef8-dcb481c48473"
      },
      "outputs": [
        {
          "output_type": "execute_result",
          "data": {
            "text/plain": [
              "True"
            ]
          },
          "metadata": {},
          "execution_count": 2
        }
      ],
      "source": [
        "10 > 0"
      ]
    },
    {
      "cell_type": "code",
      "execution_count": null,
      "metadata": {
        "id": "xU3zU5uMeEiM",
        "outputId": "5668034a-78af-4fa3-8715-d096905d1f82",
        "colab": {
          "base_uri": "https://localhost:8080/"
        }
      },
      "outputs": [
        {
          "output_type": "execute_result",
          "data": {
            "text/plain": [
              "False"
            ]
          },
          "metadata": {},
          "execution_count": 3
        }
      ],
      "source": [
        "10 == 100"
      ]
    },
    {
      "cell_type": "code",
      "execution_count": null,
      "metadata": {
        "id": "pjo9Ve7geEiO",
        "outputId": "c6c2e9b5-31cb-41ba-e180-60f829dd51e4",
        "colab": {
          "base_uri": "https://localhost:8080/"
        }
      },
      "outputs": [
        {
          "output_type": "execute_result",
          "data": {
            "text/plain": [
              "False"
            ]
          },
          "metadata": {},
          "execution_count": 4
        }
      ],
      "source": [
        "-85 > 0"
      ]
    },
    {
      "cell_type": "code",
      "execution_count": null,
      "metadata": {
        "id": "B0nvmJR3eEiP",
        "outputId": "7ed3e244-4dd1-4f3d-b303-df197e2b5937",
        "colab": {
          "base_uri": "https://localhost:8080/"
        }
      },
      "outputs": [
        {
          "output_type": "stream",
          "name": "stdout",
          "text": [
            "Entre com o número: 2\n",
            "\n",
            "O número indicado é positivo\n"
          ]
        }
      ],
      "source": [
        "num = int(input('Entre com o número: '))\n",
        "\n",
        "if num > 0:\n",
        "    print('\\nO número indicado é positivo')"
      ]
    },
    {
      "cell_type": "code",
      "execution_count": null,
      "metadata": {
        "id": "SPrCEUGxeEiR",
        "outputId": "b612e9fb-8841-49b3-997a-8b141ddd9f96",
        "colab": {
          "base_uri": "https://localhost:8080/"
        }
      },
      "outputs": [
        {
          "output_type": "stream",
          "name": "stdout",
          "text": [
            "Entre com o número: 2\n",
            "\n",
            "O número indicado é positivo\n"
          ]
        }
      ],
      "source": [
        "num = int(input('Entre com o número: '))\n",
        "\n",
        "if num > 0:\n",
        "    print('\\nO número indicado é positivo')\n",
        "else:\n",
        "    print('\\nO número indicado é negativo')"
      ]
    },
    {
      "cell_type": "code",
      "execution_count": null,
      "metadata": {
        "id": "NIPxHeeGeEiS",
        "outputId": "5be22989-3a03-4381-b2f7-86da4d022081",
        "colab": {
          "base_uri": "https://localhost:8080/"
        }
      },
      "outputs": [
        {
          "output_type": "stream",
          "name": "stdout",
          "text": [
            "Entre com o número: 0\n",
            "\n",
            "O número indicado é igual a 0\n"
          ]
        }
      ],
      "source": [
        "num = int(input('Entre com o número: '))\n",
        "\n",
        "if num > 0:\n",
        "    print('\\nO número indicado é positivo')\n",
        "elif num == 0:\n",
        "    print('\\nO número indicado é igual a 0')\n",
        "else:\n",
        "    print('\\nO número indicado é negativo')"
      ]
    },
    {
      "cell_type": "markdown",
      "metadata": {
        "id": "REuj9bmBeEiT"
      },
      "source": [
        "### Múltipas condições"
      ]
    },
    {
      "cell_type": "markdown",
      "metadata": {
        "id": "XDSgRNtleEiU"
      },
      "source": [
        "> [Escreva um programa que leia três números e que imprima o maior e o menor](https://python.nilo.pro.br/exercicios3/capitulo%2004/exercicio-04-03.html)"
      ]
    },
    {
      "cell_type": "code",
      "source": [],
      "metadata": {
        "id": "vyw_7WuqqKGL"
      },
      "execution_count": null,
      "outputs": []
    },
    {
      "cell_type": "code",
      "execution_count": null,
      "metadata": {
        "id": "aKMeze0ueEiV",
        "outputId": "61c4762d-33b7-4c2d-c406-f1b4e1d5cb52",
        "colab": {
          "base_uri": "https://localhost:8080/"
        }
      },
      "outputs": [
        {
          "output_type": "stream",
          "name": "stdout",
          "text": [
            "Digite o primeiro valor:2\n",
            "Digite o segundo valor:3\n",
            "Digite o terceiro valor:1\n",
            "\n",
            "O menor número digitado foi 1\n",
            "\n",
            "O maior número digitado foi 3\n"
          ]
        }
      ],
      "source": [
        "a = int(input(\"Digite o primeiro valor:\"))\n",
        "b = int(input(\"Digite o segundo valor:\"))\n",
        "c = int(input(\"Digite o terceiro valor:\"))\n",
        "\n",
        "maior = a\n",
        "if b > a and b > c:\n",
        "    maior = b\n",
        "if c > a and c > b:\n",
        "    maior = c\n",
        "    \n",
        "menor = a\n",
        "if b < c and b < a:\n",
        "    menor = b\n",
        "if c < b and c < a:\n",
        "    menor = c\n",
        "    \n",
        "print(f\"\\nO menor número digitado foi {menor}\")\n",
        "print(f\"\\nO maior número digitado foi {maior}\")"
      ]
    },
    {
      "cell_type": "markdown",
      "metadata": {
        "id": "VaAxTsrfeEiX"
      },
      "source": [
        "## Exercícios"
      ]
    },
    {
      "cell_type": "markdown",
      "metadata": {
        "id": "UZCfVbVCeEiX"
      },
      "source": [
        "1) Faça um algoritmo que solicite a entrada de um número e exiba o dia da semana correspondente (1-Domingo, 2- Segunda,...,7-Sábado), se receber um outro valor a mensagem \"Valor inválido\" deverá ser exibida."
      ]
    },
    {
      "cell_type": "code",
      "execution_count": null,
      "metadata": {
        "id": "w4SQ2ijfeEiY",
        "colab": {
          "base_uri": "https://localhost:8080/"
        },
        "outputId": "071fe625-1e88-4f2f-e62d-8059f72cc337"
      },
      "outputs": [
        {
          "output_type": "stream",
          "name": "stdout",
          "text": [
            "Digite um numero que represente um dia da semana3\n",
            "hoje é terça\n"
          ]
        }
      ],
      "source": [
        " dia = int(input(\"Digite um numero que represente um dia da semana\"))\n",
        "\n",
        "num1 = \"domingo\"\n",
        "if dia == 1: \n",
        "     print(\"hoje é\", num1)\n",
        "\n",
        "num2 ='segunda'\n",
        "\n",
        "if dia == 2: \n",
        "     print(\"hoje é\", num2)\n",
        "\n",
        "elif dia == 3: \n",
        "     print(\"hoje é terça\")   \n",
        "\n",
        "elif dia == 4: \n",
        "     print(\"hoje é quarta\") \n",
        "else: \n",
        "     print(\"\\nvalor inválido\")  \n",
        "\n",
        "    "
      ]
    },
    {
      "cell_type": "markdown",
      "metadata": {
        "id": "wiocVyfKeEiY"
      },
      "source": [
        "2) Faça um algoritmo que pergunte a usuária em que ano ela nasceu e, caso ela seja maior de idade, imprima em que ano ela fez 18 anos. Caso ela seja menor de idade, imprima em qual ano ela completará 18 anos. \n",
        "\n",
        "Pra deixar a saída mais fácil de entender utilize mensagens como: **\"Você fez 18 anos em: \"**, **\"Você completará 18 anos em: \"**."
      ]
    },
    {
      "cell_type": "code",
      "execution_count": 19,
      "metadata": {
        "id": "Zfg8uZ-KeEiZ",
        "colab": {
          "base_uri": "https://localhost:8080/"
        },
        "outputId": "b42609f2-fc31-4fd8-8b51-6ded051b64ae"
      },
      "outputs": [
        {
          "output_type": "stream",
          "name": "stdout",
          "text": [
            "Em que ano você nasceu?1992\n",
            "\\Você fez 18 anos em 2010\n"
          ]
        }
      ],
      "source": [
        "nascimento = int (input('Em que ano você nasceu?'))\n",
        "\n",
        "atual= 2023\n",
        "\n",
        "idade = atual - nascimento\n",
        "\n",
        "\n",
        "if idade >= 18:\n",
        "  print('\\Você fez 18 anos em', nascimento + 18)\n",
        "else:\n",
        "  print('\\Você fará 18 anos em', nascimento + 18)"
      ]
    },
    {
      "cell_type": "markdown",
      "metadata": {
        "id": "iGSQzFHxeEia"
      },
      "source": [
        "3) Faça um algoritmo que solicite as 3 notas da usuária, calcule a média e indique se a aluna foi aprovada ou reprovada (nota precisar ser **maior ou igual** à 7 para a aluna ser aprovada)."
      ]
    },
    {
      "cell_type": "code",
      "execution_count": 29,
      "metadata": {
        "id": "dYTjdLlGeEia",
        "colab": {
          "base_uri": "https://localhost:8080/"
        },
        "outputId": "25da6a6c-018c-4a45-a713-9523de0f050e"
      },
      "outputs": [
        {
          "output_type": "stream",
          "name": "stdout",
          "text": [
            "Informe sua nota 14\n",
            "Informe sua nota 29\n",
            "Informe sua nota 33\n",
            "Voce foi reprovada, sua nota é 5.333333333333333\n"
          ]
        }
      ],
      "source": [
        "notaUm = int (input('Informe sua nota 1'))\n",
        "notaDois = int (input('Informe sua nota 2'))\n",
        "notaTres = int (input('Informe sua nota 3'))\n",
        "\n",
        "notaFinal = (notaUm + notaDois + notaTres)/3\n",
        "\n",
        "if notaFinal >= 7:\n",
        "  print ('Voce foi aprovada sua nota é', notaFinal)\n",
        "else:\n",
        "  print ('Voce foi reprovada, sua nota é', notaFinal)"
      ]
    },
    {
      "cell_type": "markdown",
      "metadata": {
        "id": "mxYNx2hweEib"
      },
      "source": [
        "4) Faça um algoritmo que pergunte a idade da usuária e depois disso exiba a classificação etária de acordo com as faixas de valores:\n",
        "    \n",
        "- Criança para 0 até 11 anos;\n",
        "- Adolescente para 12 até 18 anos;\n",
        "- Jovem para 19 até 24 anos;\n",
        "- Adulto para 25 até 40 anos;\n",
        "- Meia Idade para 41 até 60 anos;\n",
        "- Idoso acima de 60 anos."
      ]
    },
    {
      "cell_type": "code",
      "execution_count": null,
      "metadata": {
        "id": "kM9lGGbQeEic"
      },
      "outputs": [],
      "source": []
    },
    {
      "cell_type": "markdown",
      "metadata": {
        "id": "-9R7mlPeeEic"
      },
      "source": [
        "> ##### Você sabe como Python diferencia \"PyLadies\" de \"Pyladies\"? Dá só uma olhada nisso: [Comparação de Strings em Python - eXcript](http://excript.com/python/comparacao-de-string-python.html)"
      ]
    },
    {
      "cell_type": "markdown",
      "metadata": {
        "id": "jKBKBpK4eEic"
      },
      "source": [
        "4) Faça um programa que solicite a entrada de dois nomes e imprima uma mensagem informando se eles são iguais ou não.\n",
        "\n",
        "\n",
        "> ##### Dica: cuidado com o int no `input()`"
      ]
    },
    {
      "cell_type": "code",
      "execution_count": 30,
      "metadata": {
        "id": "2CurJi1weEid",
        "colab": {
          "base_uri": "https://localhost:8080/"
        },
        "outputId": "01c5b0ed-6cbd-4d70-e619-3ca4dad4d610"
      },
      "outputs": [
        {
          "output_type": "stream",
          "name": "stdout",
          "text": [
            "Informe o primeiro nome: ANA\n",
            "Informe o segundo nome: ana\n",
            "\n",
            "Os nomes informados são diferentes!\n"
          ]
        }
      ],
      "source": [
        "X = input('Informe o primeiro nome: ')\n",
        "Y = input('Informe o segundo nome: ')\n",
        "\n",
        "if X == Y:\n",
        "  print('\\nOs nomes informados são iguais!')\n",
        "else: \n",
        "  print('\\nOs nomes informados são diferentes!')"
      ]
    },
    {
      "cell_type": "markdown",
      "metadata": {
        "id": "i-6zpgIgeEid"
      },
      "source": [
        "---\n",
        "\n",
        "## Quais são as outras formas de praticar esses conceitos?\n",
        "\n",
        "<img src=\"https://media.giphy.com/media/kHmVOy84g8G6my09fu/giphy.gif\" align=\"left\">"
      ]
    },
    {
      "cell_type": "markdown",
      "metadata": {
        "id": "yB7dmYpWeEid"
      },
      "source": [
        "<Adicionar atividade de sua preferência para aplicação dos conceitos>"
      ]
    }
  ],
  "metadata": {
    "kernelspec": {
      "display_name": "Python 3 (ipykernel)",
      "language": "python",
      "name": "python3"
    },
    "language_info": {
      "codemirror_mode": {
        "name": "ipython",
        "version": 3
      },
      "file_extension": ".py",
      "mimetype": "text/x-python",
      "name": "python",
      "nbconvert_exporter": "python",
      "pygments_lexer": "ipython3",
      "version": "3.10.9"
    },
    "colab": {
      "provenance": [],
      "include_colab_link": true
    }
  },
  "nbformat": 4,
  "nbformat_minor": 0
}