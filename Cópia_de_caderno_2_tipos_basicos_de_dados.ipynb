{
  "cells": [
    {
      "cell_type": "markdown",
      "metadata": {
        "id": "view-in-github",
        "colab_type": "text"
      },
      "source": [
        "<a href=\"https://colab.research.google.com/github/francinecarvalho1/curso-python/blob/main/C%C3%B3pia_de_caderno_2_tipos_basicos_de_dados.ipynb\" target=\"_parent\"><img src=\"https://colab.research.google.com/assets/colab-badge.svg\" alt=\"Open In Colab\"/></a>"
      ]
    },
    {
      "cell_type": "markdown",
      "metadata": {
        "id": "HV_ah8ceyYR7"
      },
      "source": [
        "<img src=\"https://github.com/soterolab/curso-python/blob/main/images/variaveis.png?raw=1\">"
      ]
    },
    {
      "cell_type": "markdown",
      "metadata": {
        "id": "Hw0y6lTzyYSE"
      },
      "source": [
        "## Variáveis"
      ]
    },
    {
      "cell_type": "code",
      "execution_count": null,
      "metadata": {
        "id": "KiisueILyYSK"
      },
      "outputs": [],
      "source": [
        "nome = 'Aya'\n",
        "\n",
        "idade = '25'\n",
        "\n",
        "cidade = 'Salvador'"
      ]
    },
    {
      "cell_type": "code",
      "execution_count": null,
      "metadata": {
        "id": "-4UVq1qJyYSa",
        "outputId": "adff5519-e749-42c7-90ae-ad75633c1790"
      },
      "outputs": [
        {
          "data": {
            "text/plain": [
              "'Olá! meu nome é Aya, tenho 25 anos e moro em Salvador'"
            ]
          },
          "execution_count": 2,
          "metadata": {},
          "output_type": "execute_result"
        }
      ],
      "source": [
        "'Olá! meu nome é ' + nome + ', tenho ' + idade + ' anos e moro em ' + cidade"
      ]
    },
    {
      "cell_type": "markdown",
      "metadata": {
        "id": "05Lx5XLHyYSf"
      },
      "source": [
        "## Operações\n",
        "\n",
        "### Operações Núméricas"
      ]
    },
    {
      "cell_type": "code",
      "execution_count": null,
      "metadata": {
        "id": "bxl4OFF1yYSg",
        "outputId": "8b71da9f-fb12-49ef-c2e2-e364099e6a30"
      },
      "outputs": [
        {
          "data": {
            "text/plain": [
              "4"
            ]
          },
          "execution_count": 3,
          "metadata": {},
          "output_type": "execute_result"
        }
      ],
      "source": [
        "2 + 2"
      ]
    },
    {
      "cell_type": "code",
      "execution_count": null,
      "metadata": {
        "id": "_72zp2AwyYSh",
        "outputId": "9502d9cc-a250-462e-cd72-71bf859de66b"
      },
      "outputs": [
        {
          "data": {
            "text/plain": [
              "6"
            ]
          },
          "execution_count": 4,
          "metadata": {},
          "output_type": "execute_result"
        }
      ],
      "source": [
        "2 * 3"
      ]
    },
    {
      "cell_type": "code",
      "execution_count": null,
      "metadata": {
        "id": "CBg3Fj48yYSj",
        "outputId": "d0e3ee9c-16fd-4f93-e712-f9d5185e7e0b"
      },
      "outputs": [
        {
          "data": {
            "text/plain": [
              "3"
            ]
          },
          "execution_count": 5,
          "metadata": {},
          "output_type": "execute_result"
        }
      ],
      "source": [
        "5 - 2"
      ]
    },
    {
      "cell_type": "code",
      "execution_count": null,
      "metadata": {
        "id": "IRqzX1QtyYSv",
        "outputId": "a3fd0fda-a913-4eda-991f-8c758ee737c3"
      },
      "outputs": [
        {
          "data": {
            "text/plain": [
              "9.0"
            ]
          },
          "execution_count": 6,
          "metadata": {},
          "output_type": "execute_result"
        }
      ],
      "source": [
        "45 / 5"
      ]
    },
    {
      "cell_type": "code",
      "execution_count": null,
      "metadata": {
        "id": "5ehe-oFzyYSy",
        "outputId": "ddec0dfe-ccc9-4703-bd50-a56f99ebb595"
      },
      "outputs": [
        {
          "data": {
            "text/plain": [
              "4"
            ]
          },
          "execution_count": 7,
          "metadata": {},
          "output_type": "execute_result"
        }
      ],
      "source": [
        "2 ** 2"
      ]
    },
    {
      "cell_type": "markdown",
      "metadata": {
        "id": "WSXnqdSXyYS1"
      },
      "source": [
        "### Operações de comparação"
      ]
    },
    {
      "cell_type": "code",
      "execution_count": null,
      "metadata": {
        "id": "FiV9UytlyYS3",
        "outputId": "bab09dc6-3b5c-49f2-e5a8-569378d8ee8b"
      },
      "outputs": [
        {
          "data": {
            "text/plain": [
              "False"
            ]
          },
          "execution_count": 8,
          "metadata": {},
          "output_type": "execute_result"
        }
      ],
      "source": [
        "2 > 7"
      ]
    },
    {
      "cell_type": "code",
      "execution_count": null,
      "metadata": {
        "id": "euBeHrHwyYS6",
        "outputId": "c1bdbab1-6d29-4b4b-c458-bfefa5560db3"
      },
      "outputs": [
        {
          "data": {
            "text/plain": [
              "False"
            ]
          },
          "execution_count": 9,
          "metadata": {},
          "output_type": "execute_result"
        }
      ],
      "source": [
        "'laranja' == 'banana'"
      ]
    },
    {
      "cell_type": "code",
      "execution_count": null,
      "metadata": {
        "id": "Wypg105HyYS7",
        "outputId": "14ece179-c98e-4bc0-f2bd-beae01ef5669"
      },
      "outputs": [
        {
          "data": {
            "text/plain": [
              "False"
            ]
          },
          "execution_count": 10,
          "metadata": {},
          "output_type": "execute_result"
        }
      ],
      "source": [
        "'laranja' == 'Laranja'"
      ]
    },
    {
      "cell_type": "code",
      "execution_count": null,
      "metadata": {
        "id": "o2cG7IGvyYS9",
        "outputId": "a205441d-52df-4b2d-eea9-deba42ecc7b3"
      },
      "outputs": [
        {
          "data": {
            "text/plain": [
              "True"
            ]
          },
          "execution_count": 11,
          "metadata": {},
          "output_type": "execute_result"
        }
      ],
      "source": [
        "2 + 2 == 2 * 2 "
      ]
    },
    {
      "cell_type": "markdown",
      "metadata": {
        "id": "Ug3qvV3ayYTH"
      },
      "source": [
        "### Operadores binários: =, ==, <, >, !=, <=, >=, in, not in, is, and, or, not\n",
        "\n",
        "> Indicação da [PEP 8](https://wiki.python.org.br/GuiaDeEstilo): Sempre circunde os operadores binários com um único espaço de cada lado"
      ]
    },
    {
      "cell_type": "code",
      "execution_count": null,
      "metadata": {
        "id": "o8s_LyYdyYTM",
        "outputId": "55e96f51-ba58-4c4f-feda-8e5e423992c1"
      },
      "outputs": [
        {
          "data": {
            "text/plain": [
              "False"
            ]
          },
          "execution_count": 12,
          "metadata": {},
          "output_type": "execute_result"
        }
      ],
      "source": [
        "'laranja' != 'laranja'"
      ]
    },
    {
      "cell_type": "code",
      "execution_count": null,
      "metadata": {
        "scrolled": true,
        "id": "GxrJchLgyYTN",
        "outputId": "2be1026c-e9f1-45eb-f659-767df24168d4"
      },
      "outputs": [
        {
          "name": "stderr",
          "output_type": "stream",
          "text": [
            "<>:1: SyntaxWarning: \"is\" with a literal. Did you mean \"==\"?\n",
            "<>:1: SyntaxWarning: \"is\" with a literal. Did you mean \"==\"?\n",
            "/tmp/ipykernel_35105/4225139519.py:1: SyntaxWarning: \"is\" with a literal. Did you mean \"==\"?\n",
            "  5 is 8\n"
          ]
        },
        {
          "data": {
            "text/plain": [
              "False"
            ]
          },
          "execution_count": 13,
          "metadata": {},
          "output_type": "execute_result"
        }
      ],
      "source": [
        "5 is 8"
      ]
    },
    {
      "cell_type": "markdown",
      "metadata": {
        "id": "CtqDJPuByYTO"
      },
      "source": [
        "---"
      ]
    },
    {
      "cell_type": "markdown",
      "metadata": {
        "id": "QIGnkwHnyYTP"
      },
      "source": [
        "> Uma curiosidade: [Why does Python log a SyntaxWarning for ‘is’ with literals?](https://adamj.eu/tech/2020/01/21/why-does-python-3-8-syntaxwarning-for-is-literal/)"
      ]
    },
    {
      "cell_type": "code",
      "execution_count": null,
      "metadata": {
        "id": "QuOk2KWeyYTQ",
        "outputId": "152f001f-6888-4257-b019-7c90e8a1d304"
      },
      "outputs": [
        {
          "data": {
            "text/plain": [
              "True"
            ]
          },
          "execution_count": 14,
          "metadata": {},
          "output_type": "execute_result"
        }
      ],
      "source": [
        "a = 'Aya'\n",
        "b = a\n",
        "c = 'Aya'\n",
        "\n",
        "a is b"
      ]
    },
    {
      "cell_type": "code",
      "execution_count": null,
      "metadata": {
        "id": "QuTuKiPCyYTR",
        "outputId": "48bc721f-71a8-4df4-aedc-12f2fa0143e6"
      },
      "outputs": [
        {
          "data": {
            "text/plain": [
              "True"
            ]
          },
          "execution_count": 15,
          "metadata": {},
          "output_type": "execute_result"
        }
      ],
      "source": [
        "a is c"
      ]
    },
    {
      "cell_type": "code",
      "execution_count": null,
      "metadata": {
        "id": "nxpHATfMyYTS",
        "outputId": "a945e5e7-0a98-4fa8-db0d-3e9700353c7b"
      },
      "outputs": [
        {
          "data": {
            "text/plain": [
              "140460040337584"
            ]
          },
          "execution_count": 16,
          "metadata": {},
          "output_type": "execute_result"
        }
      ],
      "source": [
        "id(a)"
      ]
    },
    {
      "cell_type": "code",
      "execution_count": null,
      "metadata": {
        "id": "bcJic1A4yYTS",
        "outputId": "76fbf244-faaf-458e-c867-acfc59d22ab1"
      },
      "outputs": [
        {
          "data": {
            "text/plain": [
              "140460040337584"
            ]
          },
          "execution_count": 17,
          "metadata": {},
          "output_type": "execute_result"
        }
      ],
      "source": [
        "id(b)"
      ]
    },
    {
      "cell_type": "code",
      "execution_count": null,
      "metadata": {
        "id": "baDzlwrfyYTT",
        "outputId": "a4519b69-288d-4484-de78-3749838d9696"
      },
      "outputs": [
        {
          "data": {
            "text/plain": [
              "140460040337584"
            ]
          },
          "execution_count": 18,
          "metadata": {},
          "output_type": "execute_result"
        }
      ],
      "source": [
        "id(c)"
      ]
    },
    {
      "cell_type": "markdown",
      "metadata": {
        "id": "VWTZcwqnyYTU"
      },
      "source": [
        "> O capítulo [\"9.10. Objects and values\" do livro \"How to Think Like a Computer Scientist\"](https://www.openbookproject.net/thinkcs/python/english2e/ch09.html#index-2) também  ajuda a entender o que aconteceu acima ;]\n",
        "\n",
        "---"
      ]
    },
    {
      "cell_type": "markdown",
      "metadata": {
        "id": "MdTybWjLyYTU"
      },
      "source": [
        "## Tipos básicos de dados"
      ]
    },
    {
      "cell_type": "code",
      "execution_count": null,
      "metadata": {
        "id": "N4iH85CjyYTV",
        "outputId": "fcc6e087-313a-472f-fba4-963f60513726"
      },
      "outputs": [
        {
          "data": {
            "text/plain": [
              "str"
            ]
          },
          "execution_count": 19,
          "metadata": {},
          "output_type": "execute_result"
        }
      ],
      "source": [
        "type(nome)"
      ]
    },
    {
      "cell_type": "code",
      "execution_count": null,
      "metadata": {
        "id": "Qpb3Usy6yYTW",
        "outputId": "66c3aaf7-9864-4eaf-f1e3-0af04cb3820e"
      },
      "outputs": [
        {
          "data": {
            "text/plain": [
              "str"
            ]
          },
          "execution_count": 20,
          "metadata": {},
          "output_type": "execute_result"
        }
      ],
      "source": [
        "type(idade)"
      ]
    },
    {
      "cell_type": "code",
      "execution_count": null,
      "metadata": {
        "id": "gJoVOClSyYTW"
      },
      "outputs": [],
      "source": [
        "idade = 25\n",
        "\n",
        "'Olá! meu nome é ' + nome + ', tenho ' + idade + ' anos e moro em ' + cidade"
      ]
    },
    {
      "cell_type": "code",
      "execution_count": null,
      "metadata": {
        "id": "kwQ74YwpyYTX",
        "outputId": "e30da4ff-fb74-40aa-c63f-b6263bfe3d43"
      },
      "outputs": [
        {
          "data": {
            "text/plain": [
              "float"
            ]
          },
          "execution_count": 22,
          "metadata": {},
          "output_type": "execute_result"
        }
      ],
      "source": [
        "type(10.5)"
      ]
    },
    {
      "cell_type": "markdown",
      "metadata": {
        "id": "7AKY_qOQyYTX"
      },
      "source": [
        "**Existem outros tipos de dados?**"
      ]
    },
    {
      "cell_type": "code",
      "execution_count": null,
      "metadata": {
        "id": "LHyERX5hyYTY",
        "outputId": "70449c60-0741-446a-ec3c-5acb19f7446c"
      },
      "outputs": [
        {
          "data": {
            "text/plain": [
              "datetime.datetime(2023, 5, 8, 17, 31, 34, 865227)"
            ]
          },
          "execution_count": 23,
          "metadata": {},
          "output_type": "execute_result"
        }
      ],
      "source": [
        "from datetime import datetime\n",
        "\n",
        "data = datetime.now()\n",
        "\n",
        "data"
      ]
    },
    {
      "cell_type": "code",
      "execution_count": null,
      "metadata": {
        "id": "OzTFyVwzyYTZ",
        "outputId": "1c11bdd6-7581-4a5e-a15b-3f8249666e75"
      },
      "outputs": [
        {
          "data": {
            "text/plain": [
              "datetime.datetime"
            ]
          },
          "execution_count": 24,
          "metadata": {},
          "output_type": "execute_result"
        }
      ],
      "source": [
        "type(data)"
      ]
    },
    {
      "cell_type": "markdown",
      "metadata": {
        "id": "gSGyv0HzyYTd"
      },
      "source": [
        "## Olhando para o lado...\n",
        "\n",
        "- [Online C Compiler.](https://www.onlinegdb.com/online_c_compiler)\n",
        "\n",
        "```\n",
        "# include <stdio.h>\n",
        "\n",
        "int main(void){\n",
        "    int num;\n",
        "    num = 10;\n",
        "    \n",
        "    printf(\"O programa A imprime o n ́umero %d\\n\",num);\n",
        "    \n",
        "    return 1;\n",
        "}\n",
        "```\n",
        "\n",
        "- [Welcome to a tour of Go](https://go.dev/tour/list)\n",
        "- [Variáveis em Golang - Um tour por Go](https://go-tour-br.appspot.com/basics/8)"
      ]
    },
    {
      "cell_type": "markdown",
      "metadata": {
        "id": "gd1gl9M3yYTg"
      },
      "source": [
        "## DICA DO DIA\n",
        "\n",
        "### Mas e se eu quiser receber dados da usuária pra executar o meu programa?"
      ]
    },
    {
      "cell_type": "markdown",
      "metadata": {
        "id": "RMnbs69xyYTi"
      },
      "source": [
        "Você conhece a instrução `input()`? Execute o código abaixo pra saber como ela funciona:\n",
        "\n",
        "> ##### Dica: depois de digitar o valor desejado tecle enter"
      ]
    },
    {
      "cell_type": "code",
      "execution_count": null,
      "metadata": {
        "id": "GoSqW6aDyYTj",
        "outputId": "ae360de1-81d2-457d-b462-36b9f6ac5368"
      },
      "outputs": [
        {
          "name": "stdout",
          "output_type": "stream",
          "text": [
            "Entre com o 1º valor: 7\n",
            "Entre com o 2º valor: 7\n",
            "A soma é dos valores é  14\n"
          ]
        }
      ],
      "source": [
        "num1 = input('Entre com o 1º valor: ')\n",
        "\n",
        "num2 = input('Entre com o 2º valor: ')\n",
        "\n",
        "soma = int(num1) + int(num2)\n",
        "\n",
        "print(\"A soma é dos valores é \", soma)"
      ]
    },
    {
      "cell_type": "markdown",
      "metadata": {
        "id": "s_0f-OlFyYTl"
      },
      "source": [
        "> ##### Saiba mais sobre `input()` no tutorial [Função input e print no Python: Entrada e Saída de dados](https://pythonacademy.com.br/blog/input-e-print-entrada-e-saida-de-dados-no-python)"
      ]
    },
    {
      "cell_type": "markdown",
      "metadata": {
        "id": "nhum7eofyYT9"
      },
      "source": [
        "## Exercícios"
      ]
    },
    {
      "cell_type": "markdown",
      "metadata": {
        "id": "rKPfAR46yYT-"
      },
      "source": [
        "1) Em uma instrução `print()`, o que acontece se você omitir um dos parênteses ou ambos?"
      ]
    },
    {
      "cell_type": "code",
      "execution_count": null,
      "metadata": {
        "id": "908yjU1RyYT_",
        "outputId": "82339b17-75e2-400a-91eb-c1bcd59dec20",
        "colab": {
          "base_uri": "https://localhost:8080/",
          "height": 130
        }
      },
      "outputs": [
        {
          "output_type": "error",
          "ename": "SyntaxError",
          "evalue": "ignored",
          "traceback": [
            "\u001b[0;36m  File \u001b[0;32m\"<ipython-input-2-1d9e3030d4be>\"\u001b[0;36m, line \u001b[0;32m2\u001b[0m\n\u001b[0;31m    \u001b[0m\n\u001b[0m    ^\u001b[0m\n\u001b[0;31mSyntaxError\u001b[0m\u001b[0;31m:\u001b[0m incomplete input\n"
          ]
        }
      ],
      "source": [
        "print (ola\n",
        "       "
      ]
    },
    {
      "cell_type": "markdown",
      "metadata": {
        "id": "6RwrkXvzyYT_"
      },
      "source": [
        "2) O que acontece se você tentar usar 02 + 05 no Python?"
      ]
    },
    {
      "cell_type": "code",
      "execution_count": null,
      "metadata": {
        "id": "UN-GGLVjyYUA"
      },
      "outputs": [],
      "source": []
    },
    {
      "cell_type": "markdown",
      "metadata": {
        "id": "zuEbzAKZyYUB"
      },
      "source": [
        "3. Faça um algoritmo que solicite a entrada do nome, idade e cidade e exiba a seguinte mensagem:\n",
        "\n",
        "> _'Olá! meu nome é Aya, tenho 25 anos e moro em Salvador'_"
      ]
    },
    {
      "cell_type": "code",
      "execution_count": null,
      "metadata": {
        "id": "icI5GOvoyYUB",
        "outputId": "5d6f9f23-1391-4da8-a49b-691e7a2273bd",
        "colab": {
          "base_uri": "https://localhost:8080/"
        }
      },
      "outputs": [
        {
          "output_type": "stream",
          "name": "stdout",
          "text": [
            "qual o nome   aya\n",
            "qual a idade   25\n",
            "qual a cidade   ssa\n",
            "Olá! meu nome é    aya, tenho    25 anos e moro em    ssa\n"
          ]
        }
      ],
      "source": [
        "nome = input('qual o nome')\n",
        "idade =input('qual a idade')\n",
        "cidade = input('qual a cidade')\n",
        "\n",
        "\n",
        "\n",
        "print('Olá! meu nome é ' + nome + ', tenho ' + idade + ' anos e moro em ' + cidade)"
      ]
    },
    {
      "cell_type": "markdown",
      "metadata": {
        "id": "Xvss5JW1yYUC"
      },
      "source": [
        "4) Quantos segundos há em 42 minutos e 42 segundos?"
      ]
    },
    {
      "cell_type": "code",
      "execution_count": null,
      "metadata": {
        "id": "1ixkalrKyYUC",
        "outputId": "fcc3d8fb-735f-4e4d-b97d-8365a35e21a2",
        "colab": {
          "base_uri": "https://localhost:8080/"
        }
      },
      "outputs": [
        {
          "output_type": "stream",
          "name": "stdout",
          "text": [
            "total 2562\n"
          ]
        }
      ],
      "source": [
        "segundost = (42*60)+42\n",
        "\n",
        "print(\"total\", segundost)"
      ]
    },
    {
      "cell_type": "markdown",
      "metadata": {
        "id": "hUh4j2ZXyYUD"
      },
      "source": [
        "5) Vimos que `n = 42` é funciona. E `42 = n`?"
      ]
    },
    {
      "cell_type": "code",
      "execution_count": null,
      "metadata": {
        "id": "HctmbqEoyYUD",
        "outputId": "4a1c6f36-e7e3-4baf-dd65-7ce81d0a4cfc",
        "colab": {
          "base_uri": "https://localhost:8080/"
        }
      },
      "outputs": [
        {
          "output_type": "stream",
          "name": "stdout",
          "text": [
            "42\n"
          ]
        }
      ],
      "source": [
        "n =42\n",
        "print(n)\n"
      ]
    },
    {
      "cell_type": "markdown",
      "metadata": {
        "id": "KPe35-rGyYUE"
      },
      "source": [
        "6) Qual é o resultado da expressão `x = y = 1`? Você consegue explicar o que aconteceu aqui?"
      ]
    },
    {
      "cell_type": "code",
      "execution_count": null,
      "metadata": {
        "id": "fNDYlg-XyYUE",
        "colab": {
          "base_uri": "https://localhost:8080/"
        },
        "outputId": "8c0f2b1d-b873-4f7e-ed7a-62340369e5e0"
      },
      "outputs": [
        {
          "output_type": "stream",
          "name": "stdout",
          "text": [
            "10 40\n"
          ]
        }
      ],
      "source": [
        "x,z =10, 40\n",
        "\n",
        "print(x,z)"
      ]
    },
    {
      "cell_type": "markdown",
      "metadata": {
        "id": "We8cRGyyyYUE"
      },
      "source": [
        "7) O que acontece se você puser um ponto e vírgula no fim de uma instrução no Python? E um ponto?"
      ]
    },
    {
      "cell_type": "code",
      "execution_count": null,
      "metadata": {
        "id": "NUYK28y6yYUF",
        "colab": {
          "base_uri": "https://localhost:8080/",
          "height": 130
        },
        "outputId": "4d526bd9-33d9-413b-90d3-f7c38f6c402b"
      },
      "outputs": [
        {
          "output_type": "error",
          "ename": "SyntaxError",
          "evalue": "ignored",
          "traceback": [
            "\u001b[0;36m  File \u001b[0;32m\"<ipython-input-21-0099ca08cb4c>\"\u001b[0;36m, line \u001b[0;32m3\u001b[0m\n\u001b[0;31m    print(nome).\u001b[0m\n\u001b[0m                ^\u001b[0m\n\u001b[0;31mSyntaxError\u001b[0m\u001b[0;31m:\u001b[0m invalid syntax\n"
          ]
        }
      ],
      "source": [
        "nome = 1\n",
        "\n",
        "print(nome)."
      ]
    },
    {
      "cell_type": "markdown",
      "metadata": {
        "id": "gxyizaSKyYUF"
      },
      "source": [
        "8) Em notação matemática é possível multiplicar x e y desta forma: xy. O que acontece se você tentar fazer o mesmo no Python?\n",
        "\n",
        "```python\n",
        "x = 2\n",
        "y = 8\n",
        "\n",
        "xy\n",
        "```"
      ]
    },
    {
      "cell_type": "code",
      "execution_count": null,
      "metadata": {
        "id": "qIyWyx1cyYUG",
        "colab": {
          "base_uri": "https://localhost:8080/",
          "height": 200
        },
        "outputId": "028a8c79-5d55-44b3-8c23-a755cc06e189"
      },
      "outputs": [
        {
          "output_type": "error",
          "ename": "NameError",
          "evalue": "ignored",
          "traceback": [
            "\u001b[0;31m---------------------------------------------------------------------------\u001b[0m",
            "\u001b[0;31mNameError\u001b[0m                                 Traceback (most recent call last)",
            "\u001b[0;32m<ipython-input-23-6aa7212adc2e>\u001b[0m in \u001b[0;36m<cell line: 4>\u001b[0;34m()\u001b[0m\n\u001b[1;32m      2\u001b[0m \u001b[0my\u001b[0m\u001b[0;34m=\u001b[0m\u001b[0;36m8\u001b[0m\u001b[0;34m\u001b[0m\u001b[0;34m\u001b[0m\u001b[0m\n\u001b[1;32m      3\u001b[0m \u001b[0;34m\u001b[0m\u001b[0m\n\u001b[0;32m----> 4\u001b[0;31m \u001b[0mprint\u001b[0m\u001b[0;34m(\u001b[0m\u001b[0mxy\u001b[0m\u001b[0;34m)\u001b[0m\u001b[0;34m\u001b[0m\u001b[0;34m\u001b[0m\u001b[0m\n\u001b[0m",
            "\u001b[0;31mNameError\u001b[0m: name 'xy' is not defined"
          ]
        }
      ],
      "source": [
        "x=2\n",
        "y=8\n",
        "\n",
        "print(xy)"
      ]
    },
    {
      "cell_type": "markdown",
      "metadata": {
        "id": "DfX22hGAyYUG"
      },
      "source": [
        "9) O que significa a saída do código abaixo?\n",
        "\n",
        "```python\n",
        "nome = 'Curso Livre Aya'\n",
        "type(nome)\n",
        "```"
      ]
    },
    {
      "cell_type": "code",
      "execution_count": null,
      "metadata": {
        "id": "Ach1XrpnyYUG",
        "colab": {
          "base_uri": "https://localhost:8080/"
        },
        "outputId": "44a01702-c2ba-401e-9ebb-f9bf655262ee"
      },
      "outputs": [
        {
          "output_type": "execute_result",
          "data": {
            "text/plain": [
              "int"
            ]
          },
          "metadata": {},
          "execution_count": 26
        }
      ],
      "source": [
        "nome = \n",
        "type(nome)"
      ]
    },
    {
      "cell_type": "markdown",
      "metadata": {
        "id": "EOgxKsIhyYUH"
      },
      "source": [
        "10) Reproduza um erro de sintaxe"
      ]
    },
    {
      "cell_type": "code",
      "execution_count": null,
      "metadata": {
        "id": "de5jORNtyYUH"
      },
      "outputs": [],
      "source": []
    },
    {
      "cell_type": "markdown",
      "metadata": {
        "id": "n6oUIiLeyYUH"
      },
      "source": [
        "11) Reproduza um erro de identação"
      ]
    },
    {
      "cell_type": "code",
      "execution_count": null,
      "metadata": {
        "id": "IuO7Yy6SyYUI",
        "colab": {
          "base_uri": "https://localhost:8080/",
          "height": 130
        },
        "outputId": "3a34768a-9679-4dd8-c5e2-4d9b73e074c9"
      },
      "outputs": [
        {
          "output_type": "error",
          "ename": "IndentationError",
          "evalue": "ignored",
          "traceback": [
            "\u001b[0;36m  File \u001b[0;32m\"<ipython-input-32-9e17afcf688e>\"\u001b[0;36m, line \u001b[0;32m4\u001b[0m\n\u001b[0;31m    print(   nome,       teste)\u001b[0m\n\u001b[0m    ^\u001b[0m\n\u001b[0;31mIndentationError\u001b[0m\u001b[0;31m:\u001b[0m unexpected indent\n"
          ]
        }
      ],
      "source": [
        "          nome = 'oi'\n",
        "          teste = 'oi1'\n",
        "\n",
        "          print(   nome,       teste)"
      ]
    },
    {
      "cell_type": "markdown",
      "metadata": {
        "id": "veStO9O3yYUI"
      },
      "source": [
        "12. Escreva um programa que calcule a soma de três variáveis e imprima o resultado na tela"
      ]
    },
    {
      "cell_type": "code",
      "execution_count": 1,
      "metadata": {
        "id": "--5hX3fIyYUI",
        "colab": {
          "base_uri": "https://localhost:8080/"
        },
        "outputId": "972da678-9686-4764-d113-844f9fe0b422"
      },
      "outputs": [
        {
          "output_type": "stream",
          "name": "stdout",
          "text": [
            "Resultado é 6\n"
          ]
        }
      ],
      "source": [
        "x=1\n",
        "y=2\n",
        "z=3\n",
        "\n",
        "soma = x+y+z\n",
        "print('Resultado é', soma)"
      ]
    },
    {
      "cell_type": "markdown",
      "metadata": {
        "id": "HA7Fo9g6yYUJ"
      },
      "source": [
        "13. Escreva um programa que receba três variáveis, calcule sua soma e imprima o resultado na tela"
      ]
    },
    {
      "cell_type": "code",
      "execution_count": null,
      "metadata": {
        "id": "alN1yzfNyYUJ",
        "colab": {
          "base_uri": "https://localhost:8080/"
        },
        "outputId": "b473410c-c1ba-4c1c-875e-7c1f0d378afe"
      },
      "outputs": [
        {
          "output_type": "stream",
          "name": "stdout",
          "text": [
            "x1\n",
            "y3\n",
            "Resultado é 4\n"
          ]
        }
      ],
      "source": [
        "x = int(input('x'))\n",
        "y = int (input('y'))\n",
        "\n",
        "soma = x+y\n",
        "print('Resultado é',soma)"
      ]
    },
    {
      "cell_type": "markdown",
      "metadata": {
        "id": "AsYpRTslyYUJ"
      },
      "source": [
        "14. Como podemos calcular o aumento do salário de Vanessa em Python?\n",
        "\n",
        "> Vanessa ganha R$ 2.500,00 e deseja um aumento de 60% do seu salário"
      ]
    },
    {
      "cell_type": "code",
      "source": [
        "salario = 2500\n",
        "percentual = 0.6\n",
        "\n",
        "aumento= salario * percentual\n",
        "\n",
        "desejo = salario + aumento\n",
        "\n",
        "print('Novo salário será', desejo)"
      ],
      "metadata": {
        "colab": {
          "base_uri": "https://localhost:8080/"
        },
        "id": "kLQ0M0L6MZwE",
        "outputId": "9aed1ee2-420d-4e24-9efb-51cbc56fd658"
      },
      "execution_count": null,
      "outputs": [
        {
          "output_type": "stream",
          "name": "stdout",
          "text": [
            "Novo salário será 4000.0\n"
          ]
        }
      ]
    },
    {
      "cell_type": "markdown",
      "metadata": {
        "id": "7HjVYp3tyYUJ"
      },
      "source": [
        "15. Escreva um programa que receba 2 variáveis e imprima na tela se elas são iguais ou não."
      ]
    },
    {
      "cell_type": "code",
      "execution_count": null,
      "metadata": {
        "id": "dxJFIcWEyYUJ",
        "colab": {
          "base_uri": "https://localhost:8080/"
        },
        "outputId": "91d16ce7-4b1c-4d85-c3ca-ae710029df77"
      },
      "outputs": [
        {
          "output_type": "stream",
          "name": "stdout",
          "text": [
            "x23\n",
            "yhg\n",
            "A resposta é False\n"
          ]
        }
      ],
      "source": [
        "x = input('x')\n",
        "y = input('y')\n",
        "\n",
        "resultado = x == y\n",
        "\n",
        "print('A resposta é', resultado)"
      ]
    },
    {
      "cell_type": "code",
      "source": [],
      "metadata": {
        "id": "dbzJUstkNhY7"
      },
      "execution_count": null,
      "outputs": []
    },
    {
      "cell_type": "markdown",
      "metadata": {
        "id": "ufoxI3HeyYUK"
      },
      "source": [
        "16. Escreva um programa que receba 2 variáveis e imprima na tela se a primeira variável é maior do que a segunda ou não."
      ]
    },
    {
      "cell_type": "code",
      "source": [
        "x = (input('x'))\n",
        "y = (input('y'))\n",
        "\n",
        "resultado = x > y\n",
        "\n",
        "print('A resposta é', resultado)"
      ],
      "metadata": {
        "colab": {
          "base_uri": "https://localhost:8080/"
        },
        "id": "4tpy_R9zOKZO",
        "outputId": "f32e6c04-d30a-4b99-c1c5-12d669342407"
      },
      "execution_count": null,
      "outputs": [
        {
          "output_type": "stream",
          "name": "stdout",
          "text": [
            "xfrancine\n",
            "yfran\n",
            "A resposta é True\n"
          ]
        }
      ]
    },
    {
      "cell_type": "markdown",
      "metadata": {
        "id": "--ZoGg_myYUK"
      },
      "source": [
        "---"
      ]
    },
    {
      "cell_type": "markdown",
      "metadata": {
        "id": "kgxM4HwSyYUK"
      },
      "source": [
        "## Quais são as outras formas de praticar esses conceitos?\n",
        "\n",
        "<img src=\"https://media.giphy.com/media/v1.Y2lkPTc5MGI3NjExODY0Yjk5YmE5YjMyZjFiOTBiNGZkMWE0Y2NjNmQ4Njg4ZjA0MDBjOCZlcD12MV9pbnRlcm5hbF9naWZzX2dpZklkJmN0PWc/26tPghhb310muUkEw/giphy.gif\" align=\"left\">"
      ]
    },
    {
      "cell_type": "markdown",
      "metadata": {
        "id": "5Re2KAv1yYUL"
      },
      "source": [
        "<Adicionar atividade de sua preferência para aplicação dos conceitos>"
      ]
    }
  ],
  "metadata": {
    "kernelspec": {
      "display_name": "Python 3 (ipykernel)",
      "language": "python",
      "name": "python3"
    },
    "language_info": {
      "codemirror_mode": {
        "name": "ipython",
        "version": 3
      },
      "file_extension": ".py",
      "mimetype": "text/x-python",
      "name": "python",
      "nbconvert_exporter": "python",
      "pygments_lexer": "ipython3",
      "version": "3.10.9"
    },
    "colab": {
      "provenance": [],
      "include_colab_link": true
    }
  },
  "nbformat": 4,
  "nbformat_minor": 0
}